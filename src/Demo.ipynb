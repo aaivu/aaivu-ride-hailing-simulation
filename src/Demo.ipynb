{
 "cells": [
  {
   "cell_type": "code",
   "execution_count": 1,
   "metadata": {},
   "outputs": [],
   "source": [
    "import os,sys\n",
    "from matplotlib import pyplot as plt\n",
    "from pathlib import Path\n",
    "sys.path.insert(1, os.path.join(sys.path[0], Path(os.getcwd()).parent))"
   ]
  },
  {
   "cell_type": "code",
   "execution_count": 2,
   "metadata": {},
   "outputs": [
    {
     "name": "stdout",
     "output_type": "stream",
     "text": [
      "Loading trip data...\n",
      "Data loading complete\n"
     ]
    }
   ],
   "source": [
    "from RideSimulator.taxi_sim import *"
   ]
  },
  {
   "cell_type": "code",
   "execution_count": 3,
   "metadata": {},
   "outputs": [
    {
     "name": "stdout",
     "output_type": "stream",
     "text": [
      "Using random policy\n",
      "The Simulation will run for 1.0 weeks, 0.0 days, 0.0 hours.\n"
     ]
    },
    {
     "data": {
      "application/vnd.jupyter.widget-view+json": {
       "model_id": "",
       "version_major": 2,
       "version_minor": 0
      },
      "text/plain": [
       "HBox(children=(FloatProgress(value=0.0, description='Weeks', max=1.0, style=ProgressStyle(description_width='i…"
      ]
     },
     "metadata": {},
     "output_type": "display_data"
    },
    {
     "data": {
      "application/vnd.jupyter.widget-view+json": {
       "model_id": "",
       "version_major": 2,
       "version_minor": 0
      },
      "text/plain": [
       "HBox(children=(FloatProgress(value=0.0, description='Days', max=7.0, style=ProgressStyle(description_width='in…"
      ]
     },
     "metadata": {},
     "output_type": "display_data"
    },
    {
     "data": {
      "application/vnd.jupyter.widget-view+json": {
       "model_id": "",
       "version_major": 2,
       "version_minor": 0
      },
      "text/plain": [
       "HBox(children=(FloatProgress(value=0.0, description='Hours', max=24.0, style=ProgressStyle(description_width='…"
      ]
     },
     "metadata": {},
     "output_type": "display_data"
    },
    {
     "data": {
      "application/vnd.jupyter.widget-view+json": {
       "model_id": "",
       "version_major": 2,
       "version_minor": 0
      },
      "text/plain": [
       "HBox(children=(FloatProgress(value=0.0, description='Hours', max=24.0, style=ProgressStyle(description_width='…"
      ]
     },
     "metadata": {},
     "output_type": "display_data"
    },
    {
     "data": {
      "application/vnd.jupyter.widget-view+json": {
       "model_id": "",
       "version_major": 2,
       "version_minor": 0
      },
      "text/plain": [
       "HBox(children=(FloatProgress(value=0.0, description='Hours', max=24.0, style=ProgressStyle(description_width='…"
      ]
     },
     "metadata": {},
     "output_type": "display_data"
    },
    {
     "data": {
      "application/vnd.jupyter.widget-view+json": {
       "model_id": "",
       "version_major": 2,
       "version_minor": 0
      },
      "text/plain": [
       "HBox(children=(FloatProgress(value=0.0, description='Hours', max=24.0, style=ProgressStyle(description_width='…"
      ]
     },
     "metadata": {},
     "output_type": "display_data"
    },
    {
     "data": {
      "application/vnd.jupyter.widget-view+json": {
       "model_id": "",
       "version_major": 2,
       "version_minor": 0
      },
      "text/plain": [
       "HBox(children=(FloatProgress(value=0.0, description='Hours', max=24.0, style=ProgressStyle(description_width='…"
      ]
     },
     "metadata": {},
     "output_type": "display_data"
    },
    {
     "data": {
      "application/vnd.jupyter.widget-view+json": {
       "model_id": "",
       "version_major": 2,
       "version_minor": 0
      },
      "text/plain": [
       "HBox(children=(FloatProgress(value=0.0, description='Hours', max=24.0, style=ProgressStyle(description_width='…"
      ]
     },
     "metadata": {},
     "output_type": "display_data"
    },
    {
     "data": {
      "application/vnd.jupyter.widget-view+json": {
       "model_id": "",
       "version_major": 2,
       "version_minor": 0
      },
      "text/plain": [
       "HBox(children=(FloatProgress(value=0.0, description='Hours', max=24.0, style=ProgressStyle(description_width='…"
      ]
     },
     "metadata": {},
     "output_type": "display_data"
    },
    {
     "name": "stdout",
     "output_type": "stream",
     "text": [
      "\r",
      "Number of trips generated: 2051\n"
     ]
    }
   ],
   "source": [
    "states, analyzer = run_simulation(policy=[\"random\"],progress_bar=True)"
   ]
  },
  {
   "cell_type": "code",
   "execution_count": 4,
   "metadata": {},
   "outputs": [],
   "source": [
    "new_params = {\n",
    "    \"TRIPS_PER_WEEK\":10000, \n",
    "    \"NUM_DAYS\":1, \n",
    "    \"DRIVER_COUNT\":25, \n",
    "    \"GRID_WIDTH\":60,\n",
    "    \"GRID_HEIGHT\":60,\n",
    "    \"HEX_AREA\":5\n",
    "}"
   ]
  },
  {
   "cell_type": "code",
   "execution_count": 5,
   "metadata": {},
   "outputs": [],
   "source": [
    "update_parameters(new_params)"
   ]
  },
  {
   "cell_type": "code",
   "execution_count": 6,
   "metadata": {},
   "outputs": [
    {
     "name": "stdout",
     "output_type": "stream",
     "text": [
      "Using random policy\n",
      "The Simulation will run for 0.0 weeks, 1.0 days, 0.0 hours.\n"
     ]
    },
    {
     "data": {
      "application/vnd.jupyter.widget-view+json": {
       "model_id": "",
       "version_major": 2,
       "version_minor": 0
      },
      "text/plain": [
       "HBox(children=(FloatProgress(value=0.0, description='Weeks', max=1.0, style=ProgressStyle(description_width='i…"
      ]
     },
     "metadata": {},
     "output_type": "display_data"
    },
    {
     "data": {
      "application/vnd.jupyter.widget-view+json": {
       "model_id": "",
       "version_major": 2,
       "version_minor": 0
      },
      "text/plain": [
       "HBox(children=(FloatProgress(value=0.0, description='Days', max=1.0, style=ProgressStyle(description_width='in…"
      ]
     },
     "metadata": {},
     "output_type": "display_data"
    },
    {
     "data": {
      "application/vnd.jupyter.widget-view+json": {
       "model_id": "",
       "version_major": 2,
       "version_minor": 0
      },
      "text/plain": [
       "HBox(children=(FloatProgress(value=0.0, description='Hours', max=24.0, style=ProgressStyle(description_width='…"
      ]
     },
     "metadata": {},
     "output_type": "display_data"
    },
    {
     "name": "stdout",
     "output_type": "stream",
     "text": [
      "\r",
      "Number of trips generated: 1431\n"
     ]
    }
   ],
   "source": [
    "states, analyzer = run_simulation(progress_bar=True)"
   ]
  },
  {
   "cell_type": "code",
   "execution_count": 7,
   "metadata": {},
   "outputs": [
    {
     "name": "stdout",
     "output_type": "stream",
     "text": [
      "Loading trip data...\n",
      "Data loading complete\n"
     ]
    }
   ],
   "source": [
    "read_data(directory=\"data\",lon_file=\"lon_points\", lat_file=\"lat_points\", \n",
    "          distance_file=\"trip_distances\", min_file=\"trips_per_min\")"
   ]
  },
  {
   "cell_type": "code",
   "execution_count": 8,
   "metadata": {},
   "outputs": [],
   "source": [
    "from RideSimulator import reward_parameters"
   ]
  },
  {
   "cell_type": "code",
   "execution_count": 9,
   "metadata": {},
   "outputs": [],
   "source": [
    "reward_parameters.unit_reward = 15\n",
    "reward_parameters.base_reward = 5000"
   ]
  },
  {
   "cell_type": "code",
   "execution_count": 10,
   "metadata": {},
   "outputs": [
    {
     "name": "stdout",
     "output_type": "stream",
     "text": [
      "Using positive reward policy\n",
      "The Simulation will run for 0.0 weeks, 1.0 days, 0.0 hours.\n"
     ]
    },
    {
     "data": {
      "application/vnd.jupyter.widget-view+json": {
       "model_id": "",
       "version_major": 2,
       "version_minor": 0
      },
      "text/plain": [
       "HBox(children=(FloatProgress(value=0.0, description='Weeks', max=1.0, style=ProgressStyle(description_width='i…"
      ]
     },
     "metadata": {},
     "output_type": "display_data"
    },
    {
     "data": {
      "application/vnd.jupyter.widget-view+json": {
       "model_id": "",
       "version_major": 2,
       "version_minor": 0
      },
      "text/plain": [
       "HBox(children=(FloatProgress(value=0.0, description='Days', max=1.0, style=ProgressStyle(description_width='in…"
      ]
     },
     "metadata": {},
     "output_type": "display_data"
    },
    {
     "data": {
      "application/vnd.jupyter.widget-view+json": {
       "model_id": "",
       "version_major": 2,
       "version_minor": 0
      },
      "text/plain": [
       "HBox(children=(FloatProgress(value=0.0, description='Hours', max=24.0, style=ProgressStyle(description_width='…"
      ]
     },
     "metadata": {},
     "output_type": "display_data"
    },
    {
     "name": "stdout",
     "output_type": "stream",
     "text": [
      "\r",
      "Number of trips generated: 1451\n"
     ]
    }
   ],
   "source": [
    "_, analyzer = run_simulation(policy=[\"positive\"],progress_bar=True)"
   ]
  },
  {
   "cell_type": "code",
   "execution_count": 11,
   "metadata": {},
   "outputs": [
    {
     "data": {
      "text/plain": [
       "920"
      ]
     },
     "execution_count": 11,
     "metadata": {},
     "output_type": "execute_result"
    }
   ],
   "source": [
    "analyzer.get_completed_trips()"
   ]
  },
  {
   "cell_type": "code",
   "execution_count": 12,
   "metadata": {},
   "outputs": [
    {
     "data": {
      "text/plain": [
       "0.6340454858718125"
      ]
     },
     "execution_count": 12,
     "metadata": {},
     "output_type": "execute_result"
    }
   ],
   "source": [
    "analyzer.completed_percentage()"
   ]
  },
  {
   "cell_type": "code",
   "execution_count": 13,
   "metadata": {},
   "outputs": [
    {
     "data": {
      "text/html": [
       "<div>\n",
       "<style scoped>\n",
       "    .dataframe tbody tr th:only-of-type {\n",
       "        vertical-align: middle;\n",
       "    }\n",
       "\n",
       "    .dataframe tbody tr th {\n",
       "        vertical-align: top;\n",
       "    }\n",
       "\n",
       "    .dataframe thead th {\n",
       "        text-align: right;\n",
       "    }\n",
       "</style>\n",
       "<table border=\"1\" class=\"dataframe\">\n",
       "  <thead>\n",
       "    <tr style=\"text-align: right;\">\n",
       "      <th></th>\n",
       "      <th>created_time</th>\n",
       "      <th>pickup_loc</th>\n",
       "      <th>drop_loc</th>\n",
       "      <th>nearest_spots</th>\n",
       "      <th>hex_id</th>\n",
       "      <th>driver_found</th>\n",
       "      <th>cancelled</th>\n",
       "      <th>driver_req</th>\n",
       "      <th>rejected_drivers</th>\n",
       "      <th>rejected_locations</th>\n",
       "      <th>trip_distance</th>\n",
       "      <th>pick_distance</th>\n",
       "      <th>pickup_cost</th>\n",
       "      <th>total_cost</th>\n",
       "      <th>trip_reward</th>\n",
       "      <th>hourly_reward</th>\n",
       "      <th>search_radius</th>\n",
       "    </tr>\n",
       "    <tr>\n",
       "      <th>id</th>\n",
       "      <th></th>\n",
       "      <th></th>\n",
       "      <th></th>\n",
       "      <th></th>\n",
       "      <th></th>\n",
       "      <th></th>\n",
       "      <th></th>\n",
       "      <th></th>\n",
       "      <th></th>\n",
       "      <th></th>\n",
       "      <th></th>\n",
       "      <th></th>\n",
       "      <th></th>\n",
       "      <th></th>\n",
       "      <th></th>\n",
       "      <th></th>\n",
       "      <th></th>\n",
       "    </tr>\n",
       "  </thead>\n",
       "  <tbody>\n",
       "    <tr>\n",
       "      <th>0</th>\n",
       "      <td>0</td>\n",
       "      <td>[37.78900000000227, 40.311000000000064]</td>\n",
       "      <td>[29.118135390625707, 48.26415523954428]</td>\n",
       "      <td>[72, 73, 83, 84]</td>\n",
       "      <td>75.0</td>\n",
       "      <td>True</td>\n",
       "      <td>False</td>\n",
       "      <td>None</td>\n",
       "      <td>[]</td>\n",
       "      <td>[]</td>\n",
       "      <td>11.8</td>\n",
       "      <td>8.2</td>\n",
       "      <td>61.50</td>\n",
       "      <td>150.00</td>\n",
       "      <td>203.825111</td>\n",
       "      <td>26.825111</td>\n",
       "      <td>2</td>\n",
       "    </tr>\n",
       "    <tr>\n",
       "      <th>1</th>\n",
       "      <td>40</td>\n",
       "      <td>[22.97727908572879, 42.32837233100319]</td>\n",
       "      <td>[8.386000000002083, 46.63099999999982]</td>\n",
       "      <td>[41, 40, 52, 51]</td>\n",
       "      <td>73.0</td>\n",
       "      <td>True</td>\n",
       "      <td>False</td>\n",
       "      <td>None</td>\n",
       "      <td>[]</td>\n",
       "      <td>[]</td>\n",
       "      <td>15.2</td>\n",
       "      <td>6.2</td>\n",
       "      <td>46.50</td>\n",
       "      <td>160.50</td>\n",
       "      <td>254.825111</td>\n",
       "      <td>26.825111</td>\n",
       "      <td>2</td>\n",
       "    </tr>\n",
       "    <tr>\n",
       "      <th>2</th>\n",
       "      <td>50</td>\n",
       "      <td>[9.99197492480311, 45.49932492073807]</td>\n",
       "      <td>[8.269000000002084, 48.940999999999995]</td>\n",
       "      <td>[19, 18, 30, 29]</td>\n",
       "      <td>85.0</td>\n",
       "      <td>True</td>\n",
       "      <td>False</td>\n",
       "      <td>None</td>\n",
       "      <td>[23]</td>\n",
       "      <td>[[15, 45]]</td>\n",
       "      <td>3.8</td>\n",
       "      <td>2.0</td>\n",
       "      <td>15.00</td>\n",
       "      <td>43.50</td>\n",
       "      <td>83.825111</td>\n",
       "      <td>26.825111</td>\n",
       "      <td>2</td>\n",
       "    </tr>\n",
       "    <tr>\n",
       "      <th>3</th>\n",
       "      <td>90</td>\n",
       "      <td>[8.246000000002084, 43.94000000000015]</td>\n",
       "      <td>[33.55020150143558, 20.359504851270373]</td>\n",
       "      <td>[19, 18, 30, 29]</td>\n",
       "      <td>73.0</td>\n",
       "      <td>True</td>\n",
       "      <td>False</td>\n",
       "      <td>None</td>\n",
       "      <td>[]</td>\n",
       "      <td>[]</td>\n",
       "      <td>34.6</td>\n",
       "      <td>6.8</td>\n",
       "      <td>51.00</td>\n",
       "      <td>310.50</td>\n",
       "      <td>545.825111</td>\n",
       "      <td>26.825111</td>\n",
       "      <td>2</td>\n",
       "    </tr>\n",
       "    <tr>\n",
       "      <th>4</th>\n",
       "      <td>100</td>\n",
       "      <td>[8.828000000002083, 44.12400000000011]</td>\n",
       "      <td>[1.5842258664356388, 24.06598857420392]</td>\n",
       "      <td>[19, 18, 30, 29]</td>\n",
       "      <td>73.0</td>\n",
       "      <td>True</td>\n",
       "      <td>False</td>\n",
       "      <td>None</td>\n",
       "      <td>[]</td>\n",
       "      <td>[]</td>\n",
       "      <td>21.3</td>\n",
       "      <td>4.8</td>\n",
       "      <td>36.00</td>\n",
       "      <td>195.75</td>\n",
       "      <td>346.325111</td>\n",
       "      <td>26.825111</td>\n",
       "      <td>2</td>\n",
       "    </tr>\n",
       "    <tr>\n",
       "      <th>...</th>\n",
       "      <td>...</td>\n",
       "      <td>...</td>\n",
       "      <td>...</td>\n",
       "      <td>...</td>\n",
       "      <td>...</td>\n",
       "      <td>...</td>\n",
       "      <td>...</td>\n",
       "      <td>...</td>\n",
       "      <td>...</td>\n",
       "      <td>...</td>\n",
       "      <td>...</td>\n",
       "      <td>...</td>\n",
       "      <td>...</td>\n",
       "      <td>...</td>\n",
       "      <td>...</td>\n",
       "      <td>...</td>\n",
       "      <td>...</td>\n",
       "    </tr>\n",
       "    <tr>\n",
       "      <th>1446</th>\n",
       "      <td>14040</td>\n",
       "      <td>[22.099401369425003, 50.602690996869384]</td>\n",
       "      <td>[8.087, 38.96200000000032]</td>\n",
       "      <td>[41, 42, 40, 52, 53, 51, 63, 64, 62]</td>\n",
       "      <td>73.0</td>\n",
       "      <td>True</td>\n",
       "      <td>False</td>\n",
       "      <td>None</td>\n",
       "      <td>[]</td>\n",
       "      <td>[]</td>\n",
       "      <td>18.2</td>\n",
       "      <td>6.3</td>\n",
       "      <td>47.25</td>\n",
       "      <td>183.75</td>\n",
       "      <td>322.850301</td>\n",
       "      <td>49.850301</td>\n",
       "      <td>3</td>\n",
       "    </tr>\n",
       "    <tr>\n",
       "      <th>1447</th>\n",
       "      <td>14160</td>\n",
       "      <td>[14.83100000000303, 59.52799999999955]</td>\n",
       "      <td>[5.9870776629869535, 54.10109246109546]</td>\n",
       "      <td>[8, 9, 10, 19, 20, 21, 30, 31, 32, 41, 42, 43,...</td>\n",
       "      <td>91.0</td>\n",
       "      <td>True</td>\n",
       "      <td>False</td>\n",
       "      <td>None</td>\n",
       "      <td>[]</td>\n",
       "      <td>[]</td>\n",
       "      <td>10.4</td>\n",
       "      <td>6.9</td>\n",
       "      <td>51.75</td>\n",
       "      <td>129.75</td>\n",
       "      <td>205.850301</td>\n",
       "      <td>49.850301</td>\n",
       "      <td>4</td>\n",
       "    </tr>\n",
       "    <tr>\n",
       "      <th>1448</th>\n",
       "      <td>14200</td>\n",
       "      <td>[11.908000000004737, 47.09299999999982]</td>\n",
       "      <td>[19.340117090902673, 48.09705228859035]</td>\n",
       "      <td>[5, 6, 7, 8, 9, 10, 16, 17, 18, 19, 20, 21, 27...</td>\n",
       "      <td>79.0</td>\n",
       "      <td>False</td>\n",
       "      <td>True</td>\n",
       "      <td>None</td>\n",
       "      <td>[21, 16, 1]</td>\n",
       "      <td>[[5.9870776629869535, 54.10109246109546], [25....</td>\n",
       "      <td>0.0</td>\n",
       "      <td>0.0</td>\n",
       "      <td>0.00</td>\n",
       "      <td>0.00</td>\n",
       "      <td>0.000000</td>\n",
       "      <td>0.000000</td>\n",
       "      <td>5</td>\n",
       "    </tr>\n",
       "    <tr>\n",
       "      <th>1449</th>\n",
       "      <td>14300</td>\n",
       "      <td>[10.572999999999242, 46.675999999999675]</td>\n",
       "      <td>[11.026141247143471, 24.379275600168576]</td>\n",
       "      <td>[19, 20, 18, 30, 31, 29, 41, 42, 40]</td>\n",
       "      <td>73.0</td>\n",
       "      <td>True</td>\n",
       "      <td>False</td>\n",
       "      <td>None</td>\n",
       "      <td>[]</td>\n",
       "      <td>[]</td>\n",
       "      <td>22.3</td>\n",
       "      <td>8.7</td>\n",
       "      <td>65.25</td>\n",
       "      <td>232.50</td>\n",
       "      <td>361.325111</td>\n",
       "      <td>26.825111</td>\n",
       "      <td>3</td>\n",
       "    </tr>\n",
       "    <tr>\n",
       "      <th>1450</th>\n",
       "      <td>14310</td>\n",
       "      <td>[17.916000000001137, 50.76300000000024]</td>\n",
       "      <td>[25.243249102225597, 9.051686979984147]</td>\n",
       "      <td>[17, 18, 19, 20, 21, 28, 29, 30, 31, 32, 39, 4...</td>\n",
       "      <td>79.0</td>\n",
       "      <td>True</td>\n",
       "      <td>False</td>\n",
       "      <td>None</td>\n",
       "      <td>[]</td>\n",
       "      <td>[]</td>\n",
       "      <td>42.3</td>\n",
       "      <td>16.3</td>\n",
       "      <td>122.25</td>\n",
       "      <td>439.50</td>\n",
       "      <td>661.325111</td>\n",
       "      <td>26.825111</td>\n",
       "      <td>4</td>\n",
       "    </tr>\n",
       "  </tbody>\n",
       "</table>\n",
       "<p>1451 rows × 17 columns</p>\n",
       "</div>"
      ],
      "text/plain": [
       "      created_time                                pickup_loc  \\\n",
       "id                                                             \n",
       "0                0   [37.78900000000227, 40.311000000000064]   \n",
       "1               40    [22.97727908572879, 42.32837233100319]   \n",
       "2               50     [9.99197492480311, 45.49932492073807]   \n",
       "3               90    [8.246000000002084, 43.94000000000015]   \n",
       "4              100    [8.828000000002083, 44.12400000000011]   \n",
       "...            ...                                       ...   \n",
       "1446         14040  [22.099401369425003, 50.602690996869384]   \n",
       "1447         14160    [14.83100000000303, 59.52799999999955]   \n",
       "1448         14200   [11.908000000004737, 47.09299999999982]   \n",
       "1449         14300  [10.572999999999242, 46.675999999999675]   \n",
       "1450         14310   [17.916000000001137, 50.76300000000024]   \n",
       "\n",
       "                                      drop_loc  \\\n",
       "id                                               \n",
       "0      [29.118135390625707, 48.26415523954428]   \n",
       "1       [8.386000000002083, 46.63099999999982]   \n",
       "2      [8.269000000002084, 48.940999999999995]   \n",
       "3      [33.55020150143558, 20.359504851270373]   \n",
       "4      [1.5842258664356388, 24.06598857420392]   \n",
       "...                                        ...   \n",
       "1446                [8.087, 38.96200000000032]   \n",
       "1447   [5.9870776629869535, 54.10109246109546]   \n",
       "1448   [19.340117090902673, 48.09705228859035]   \n",
       "1449  [11.026141247143471, 24.379275600168576]   \n",
       "1450   [25.243249102225597, 9.051686979984147]   \n",
       "\n",
       "                                          nearest_spots  hex_id  driver_found  \\\n",
       "id                                                                              \n",
       "0                                      [72, 73, 83, 84]    75.0          True   \n",
       "1                                      [41, 40, 52, 51]    73.0          True   \n",
       "2                                      [19, 18, 30, 29]    85.0          True   \n",
       "3                                      [19, 18, 30, 29]    73.0          True   \n",
       "4                                      [19, 18, 30, 29]    73.0          True   \n",
       "...                                                 ...     ...           ...   \n",
       "1446               [41, 42, 40, 52, 53, 51, 63, 64, 62]    73.0          True   \n",
       "1447  [8, 9, 10, 19, 20, 21, 30, 31, 32, 41, 42, 43,...    91.0          True   \n",
       "1448  [5, 6, 7, 8, 9, 10, 16, 17, 18, 19, 20, 21, 27...    79.0         False   \n",
       "1449               [19, 20, 18, 30, 31, 29, 41, 42, 40]    73.0          True   \n",
       "1450  [17, 18, 19, 20, 21, 28, 29, 30, 31, 32, 39, 4...    79.0          True   \n",
       "\n",
       "      cancelled driver_req rejected_drivers  \\\n",
       "id                                            \n",
       "0         False       None               []   \n",
       "1         False       None               []   \n",
       "2         False       None             [23]   \n",
       "3         False       None               []   \n",
       "4         False       None               []   \n",
       "...         ...        ...              ...   \n",
       "1446      False       None               []   \n",
       "1447      False       None               []   \n",
       "1448       True       None      [21, 16, 1]   \n",
       "1449      False       None               []   \n",
       "1450      False       None               []   \n",
       "\n",
       "                                     rejected_locations  trip_distance  \\\n",
       "id                                                                       \n",
       "0                                                    []           11.8   \n",
       "1                                                    []           15.2   \n",
       "2                                            [[15, 45]]            3.8   \n",
       "3                                                    []           34.6   \n",
       "4                                                    []           21.3   \n",
       "...                                                 ...            ...   \n",
       "1446                                                 []           18.2   \n",
       "1447                                                 []           10.4   \n",
       "1448  [[5.9870776629869535, 54.10109246109546], [25....            0.0   \n",
       "1449                                                 []           22.3   \n",
       "1450                                                 []           42.3   \n",
       "\n",
       "      pick_distance  pickup_cost  total_cost  trip_reward  hourly_reward  \\\n",
       "id                                                                         \n",
       "0               8.2        61.50      150.00   203.825111      26.825111   \n",
       "1               6.2        46.50      160.50   254.825111      26.825111   \n",
       "2               2.0        15.00       43.50    83.825111      26.825111   \n",
       "3               6.8        51.00      310.50   545.825111      26.825111   \n",
       "4               4.8        36.00      195.75   346.325111      26.825111   \n",
       "...             ...          ...         ...          ...            ...   \n",
       "1446            6.3        47.25      183.75   322.850301      49.850301   \n",
       "1447            6.9        51.75      129.75   205.850301      49.850301   \n",
       "1448            0.0         0.00        0.00     0.000000       0.000000   \n",
       "1449            8.7        65.25      232.50   361.325111      26.825111   \n",
       "1450           16.3       122.25      439.50   661.325111      26.825111   \n",
       "\n",
       "      search_radius  \n",
       "id                   \n",
       "0                 2  \n",
       "1                 2  \n",
       "2                 2  \n",
       "3                 2  \n",
       "4                 2  \n",
       "...             ...  \n",
       "1446              3  \n",
       "1447              4  \n",
       "1448              5  \n",
       "1449              3  \n",
       "1450              4  \n",
       "\n",
       "[1451 rows x 17 columns]"
      ]
     },
     "execution_count": 13,
     "metadata": {},
     "output_type": "execute_result"
    }
   ],
   "source": [
    "analyzer.get_trip_data()"
   ]
  },
  {
   "cell_type": "code",
   "execution_count": 14,
   "metadata": {},
   "outputs": [
    {
     "data": {
      "text/plain": [
       "75810.58884829748"
      ]
     },
     "execution_count": 14,
     "metadata": {},
     "output_type": "execute_result"
    }
   ],
   "source": [
    "analyzer.cumulative_net_trip_reward().sum()"
   ]
  },
  {
   "cell_type": "code",
   "execution_count": 15,
   "metadata": {},
   "outputs": [
    {
     "data": {
      "text/plain": [
       "[[2688.5489110416665, False],\n",
       " [4985.057509374997, False],\n",
       " [2874.9173983333326, False],\n",
       " [571.0324493749997, False],\n",
       " [3124.81071125, False],\n",
       " [1916.2389627083335, False],\n",
       " [1431.4339716666661, False],\n",
       " [1563.6868143749996, False],\n",
       " [9506.08709168035, True],\n",
       " [10254.56086738973, True],\n",
       " [5073.424676458333, False],\n",
       " [2726.4828977083325, False],\n",
       " [2408.796804791667, False],\n",
       " [11752.336718870256, True],\n",
       " [1302.150562708333, False],\n",
       " [371.2565774999996, False],\n",
       " [9364.294220622414, True],\n",
       " [859.1273674999998, False],\n",
       " [920.903491874999, False],\n",
       " [3209.901204147607, False],\n",
       " [59.86337104166665, False],\n",
       " [5198.273295444036, False],\n",
       " [3936.9973775000003, False],\n",
       " [5958.362545466443, False],\n",
       " [3297.732031666667, False]]"
      ]
     },
     "execution_count": 15,
     "metadata": {},
     "output_type": "execute_result"
    }
   ],
   "source": [
    "analyzer.driver_rewards()"
   ]
  },
  {
   "cell_type": "code",
   "execution_count": 16,
   "metadata": {},
   "outputs": [
    {
     "data": {
      "image/png": "[encoded data removed]",
      "text/plain": [
       "<Figure size 432x288 with 1 Axes>"
      ]
     },
     "metadata": {
      "needs_background": "light"
     },
     "output_type": "display_data"
    }
   ],
   "source": [
    "analyzer.trip_distribution()"
   ]
  },
  {
   "cell_type": "code",
   "execution_count": 17,
   "metadata": {},
   "outputs": [
    {
     "data": {
      "image/png": "[encoded data removed]",
      "text/plain": [
       "<Figure size 2160x144 with 1 Axes>"
      ]
     },
     "metadata": {
      "needs_background": "light"
     },
     "output_type": "display_data"
    }
   ],
   "source": [
    "analyzer.plot_driver_states(5,start_time=4000,legend_size=20)"
   ]
  },
  {
   "cell_type": "code",
   "execution_count": 19,
   "metadata": {},
   "outputs": [
    {
     "data": {
      "image/png": "[encoded data removed]",
      "text/plain": [
       "<Figure size 720x720 with 1 Axes>"
      ]
     },
     "metadata": {
      "needs_background": "light"
     },
     "output_type": "display_data"
    }
   ],
   "source": [
    "analyzer.plot_driver_movement(3,number_of_trips=20,first_trip=0)"
   ]
  },
  {
   "cell_type": "code",
   "execution_count": null,
   "metadata": {},
   "outputs": [],
   "source": []
  }
 ],
 "metadata": {
  "kernelspec": {
   "display_name": "Python 3",
   "language": "python",
   "name": "python3"
  },
  "language_info": {
   "codemirror_mode": {
    "name": "ipython",
    "version": 3
   },
   "file_extension": ".py",
   "mimetype": "text/x-python",
   "name": "python",
   "nbconvert_exporter": "python",
   "pygments_lexer": "ipython3",
   "version": "3.6.8"
  }
 },
 "nbformat": 4,
 "nbformat_minor": 2
}
