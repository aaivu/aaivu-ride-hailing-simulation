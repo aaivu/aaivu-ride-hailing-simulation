{
 "cells": [
  {
   "cell_type": "code",
   "execution_count": 2,
   "metadata": {},
   "outputs": [],
   "source": [
    "import os,sys,pathlib\n",
    "sys.path.insert(1, os.path.join(sys.path[0], pathlib.Path(os.getcwd()).parent))"
   ]
  },
  {
   "cell_type": "code",
   "execution_count": 2,
   "metadata": {},
   "outputs": [],
   "source": [
    "import datetime as dt\n",
    "import matplotlib.pyplot as plt\n",
    "import matplotlib.dates as mdates\n",
    "from matplotlib.collections import PolyCollection\n",
    "import matplotlib.patches as mpatches"
   ]
  },
  {
   "cell_type": "code",
   "execution_count": 3,
   "metadata": {},
   "outputs": [
    {
     "name": "stdout",
     "output_type": "stream",
     "text": [
      "Loading trip data...\n",
      "Data loading complete\n",
      "The Simulation will run for 0.0 weeks, 2.0 days, 0.0 hours.\n"
     ]
    },
    {
     "data": {
      "application/vnd.jupyter.widget-view+json": {
       "model_id": "5f7dfde819b34d5fbf6f7691cb313286",
       "version_major": 2,
       "version_minor": 0
      },
      "text/plain": [
       "HBox(children=(FloatProgress(value=0.0, description='Weeks', max=1.0, style=ProgressStyle(description_width='i…"
      ]
     },
     "metadata": {},
     "output_type": "display_data"
    },
    {
     "data": {
      "application/vnd.jupyter.widget-view+json": {
       "model_id": "",
       "version_major": 2,
       "version_minor": 0
      },
      "text/plain": [
       "HBox(children=(FloatProgress(value=0.0, description='Days', max=2.0, style=ProgressStyle(description_width='in…"
      ]
     },
     "metadata": {},
     "output_type": "display_data"
    },
    {
     "data": {
      "application/vnd.jupyter.widget-view+json": {
       "model_id": "",
       "version_major": 2,
       "version_minor": 0
      },
      "text/plain": [
       "HBox(children=(FloatProgress(value=0.0, description='Hours', max=24.0, style=ProgressStyle(description_width='…"
      ]
     },
     "metadata": {},
     "output_type": "display_data"
    },
    {
     "data": {
      "application/vnd.jupyter.widget-view+json": {
       "model_id": "",
       "version_major": 2,
       "version_minor": 0
      },
      "text/plain": [
       "HBox(children=(FloatProgress(value=0.0, description='Hours', max=24.0, style=ProgressStyle(description_width='…"
      ]
     },
     "metadata": {},
     "output_type": "display_data"
    },
    {
     "name": "stdout",
     "output_type": "stream",
     "text": [
      "\n",
      "Simulation Ended\n",
      "Number of trips generated: 2993\n",
      "Trip Completion Percentage: 0.861343133979285\n"
     ]
    }
   ],
   "source": [
    "from RideSimulator.taxi_sim import run_simulation"
   ]
  },
  {
   "cell_type": "code",
   "execution_count": 4,
   "metadata": {},
   "outputs": [
    {
     "name": "stdout",
     "output_type": "stream",
     "text": [
      "Number of weeks: 1\n",
      "Number of trips generated: 4708\n"
     ]
    }
   ],
   "source": [
    "_, a, g = run_simulation([1,2,3,4])"
   ]
  },
  {
   "cell_type": "code",
   "execution_count": 5,
   "metadata": {},
   "outputs": [],
   "source": [
    "driver_data = a.driver_actions.xs(0, level=1).copy()\n",
    "driver_data.sort_values(by='assigned_time', inplace=True)"
   ]
  },
  {
   "cell_type": "code",
   "execution_count": 6,
   "metadata": {},
   "outputs": [
    {
     "data": {
      "text/html": [
       "<div>\n",
       "<style scoped>\n",
       "    .dataframe tbody tr th:only-of-type {\n",
       "        vertical-align: middle;\n",
       "    }\n",
       "\n",
       "    .dataframe tbody tr th {\n",
       "        vertical-align: top;\n",
       "    }\n",
       "\n",
       "    .dataframe thead th {\n",
       "        text-align: right;\n",
       "    }\n",
       "</style>\n",
       "<table border=\"1\" class=\"dataframe\">\n",
       "  <thead>\n",
       "    <tr style=\"text-align: right;\">\n",
       "      <th></th>\n",
       "      <th>created_time</th>\n",
       "      <th>assigned_time</th>\n",
       "      <th>pickup_loc</th>\n",
       "      <th>drop_loc</th>\n",
       "      <th>driver_loc</th>\n",
       "      <th>pickup_time</th>\n",
       "      <th>travel_time</th>\n",
       "      <th>driver_action</th>\n",
       "    </tr>\n",
       "    <tr>\n",
       "      <th>trip_id</th>\n",
       "      <th></th>\n",
       "      <th></th>\n",
       "      <th></th>\n",
       "      <th></th>\n",
       "      <th></th>\n",
       "      <th></th>\n",
       "      <th></th>\n",
       "      <th></th>\n",
       "    </tr>\n",
       "  </thead>\n",
       "  <tbody>\n",
       "    <tr>\n",
       "      <th>7</th>\n",
       "      <td>160</td>\n",
       "      <td>210.0</td>\n",
       "      <td>[21.066000000005683, 33.97933333333332]</td>\n",
       "      <td>[20.644953277707753, 16.739639232664956]</td>\n",
       "      <td>[36, 12]</td>\n",
       "      <td>266.0</td>\n",
       "      <td>172.0</td>\n",
       "      <td>0</td>\n",
       "    </tr>\n",
       "    <tr>\n",
       "      <th>10</th>\n",
       "      <td>240</td>\n",
       "      <td>240.0</td>\n",
       "      <td>[36.80599999999886, 28.893000000000157]</td>\n",
       "      <td>[15.952679135966424, 38.502402044018744]</td>\n",
       "      <td>[36, 12]</td>\n",
       "      <td>169.0</td>\n",
       "      <td>230.0</td>\n",
       "      <td>0</td>\n",
       "    </tr>\n",
       "    <tr>\n",
       "      <th>11</th>\n",
       "      <td>240</td>\n",
       "      <td>340.0</td>\n",
       "      <td>[10.61700000000019, 38.44766666666648]</td>\n",
       "      <td>[38.240837748317205, 35.99919570266608]</td>\n",
       "      <td>[36, 12]</td>\n",
       "      <td>367.0</td>\n",
       "      <td>277.0</td>\n",
       "      <td>1</td>\n",
       "    </tr>\n",
       "    <tr>\n",
       "      <th>33</th>\n",
       "      <td>1060</td>\n",
       "      <td>1210.0</td>\n",
       "      <td>[2.223000000004737, 16.830666666666666]</td>\n",
       "      <td>[4.394584156559439, 9.201755368254531]</td>\n",
       "      <td>[38.240837748317205, 35.99919570266608]</td>\n",
       "      <td>408.0</td>\n",
       "      <td>79.0</td>\n",
       "      <td>0</td>\n",
       "    </tr>\n",
       "    <tr>\n",
       "      <th>41</th>\n",
       "      <td>1420</td>\n",
       "      <td>1520.0</td>\n",
       "      <td>[18.381000000002842, 10.591666666666937]</td>\n",
       "      <td>[12.512562250473064, 28.217580717720423]</td>\n",
       "      <td>[38.240837748317205, 35.99919570266608]</td>\n",
       "      <td>322.0</td>\n",
       "      <td>186.0</td>\n",
       "      <td>0</td>\n",
       "    </tr>\n",
       "    <tr>\n",
       "      <th>...</th>\n",
       "      <td>...</td>\n",
       "      <td>...</td>\n",
       "      <td>...</td>\n",
       "      <td>...</td>\n",
       "      <td>...</td>\n",
       "      <td>...</td>\n",
       "      <td>...</td>\n",
       "      <td>...</td>\n",
       "    </tr>\n",
       "    <tr>\n",
       "      <th>4650</th>\n",
       "      <td>99220</td>\n",
       "      <td>99370.0</td>\n",
       "      <td>[8.42900000000303, 8.422666666666535]</td>\n",
       "      <td>[19.93147386703501, 14.063607852038452]</td>\n",
       "      <td>[39.14615391019719, 7.482814219499648]</td>\n",
       "      <td>307.0</td>\n",
       "      <td>128.0</td>\n",
       "      <td>1</td>\n",
       "    </tr>\n",
       "    <tr>\n",
       "      <th>4666</th>\n",
       "      <td>99810</td>\n",
       "      <td>99860.0</td>\n",
       "      <td>[8.152000000002085, 19.29966666666681]</td>\n",
       "      <td>[3.0983091938973537, 6.25685515500164]</td>\n",
       "      <td>[19.93147386703501, 14.063607852038452]</td>\n",
       "      <td>129.0</td>\n",
       "      <td>140.0</td>\n",
       "      <td>1</td>\n",
       "    </tr>\n",
       "    <tr>\n",
       "      <th>4683</th>\n",
       "      <td>100130</td>\n",
       "      <td>100180.0</td>\n",
       "      <td>[19.48100000000038, 7.3233333333331805]</td>\n",
       "      <td>[27.588101041296206, 14.702482432312948]</td>\n",
       "      <td>[3.0983091938973537, 6.25685515500164]</td>\n",
       "      <td>164.0</td>\n",
       "      <td>110.0</td>\n",
       "      <td>1</td>\n",
       "    </tr>\n",
       "    <tr>\n",
       "      <th>4693</th>\n",
       "      <td>100400</td>\n",
       "      <td>100454.0</td>\n",
       "      <td>[6.824000000000379, 12.938333333333613]</td>\n",
       "      <td>[6.196268546019961, 32.34207295270242]</td>\n",
       "      <td>[27.588101041296206, 14.702482432312948]</td>\n",
       "      <td>208.0</td>\n",
       "      <td>194.0</td>\n",
       "      <td>0</td>\n",
       "    </tr>\n",
       "    <tr>\n",
       "      <th>4692</th>\n",
       "      <td>100400</td>\n",
       "      <td>100454.0</td>\n",
       "      <td>[1.0300000000022738, 28.620000000000022]</td>\n",
       "      <td>[16.118214174602493, 18.58896649600287]</td>\n",
       "      <td>[27.588101041296206, 14.702482432312948]</td>\n",
       "      <td>300.0</td>\n",
       "      <td>181.0</td>\n",
       "      <td>1</td>\n",
       "    </tr>\n",
       "  </tbody>\n",
       "</table>\n",
       "<p>423 rows × 8 columns</p>\n",
       "</div>"
      ],
      "text/plain": [
       "         created_time  assigned_time  \\\n",
       "trip_id                                \n",
       "7                 160          210.0   \n",
       "10                240          240.0   \n",
       "11                240          340.0   \n",
       "33               1060         1210.0   \n",
       "41               1420         1520.0   \n",
       "...               ...            ...   \n",
       "4650            99220        99370.0   \n",
       "4666            99810        99860.0   \n",
       "4683           100130       100180.0   \n",
       "4693           100400       100454.0   \n",
       "4692           100400       100454.0   \n",
       "\n",
       "                                       pickup_loc  \\\n",
       "trip_id                                             \n",
       "7         [21.066000000005683, 33.97933333333332]   \n",
       "10        [36.80599999999886, 28.893000000000157]   \n",
       "11         [10.61700000000019, 38.44766666666648]   \n",
       "33        [2.223000000004737, 16.830666666666666]   \n",
       "41       [18.381000000002842, 10.591666666666937]   \n",
       "...                                           ...   \n",
       "4650        [8.42900000000303, 8.422666666666535]   \n",
       "4666       [8.152000000002085, 19.29966666666681]   \n",
       "4683      [19.48100000000038, 7.3233333333331805]   \n",
       "4693      [6.824000000000379, 12.938333333333613]   \n",
       "4692     [1.0300000000022738, 28.620000000000022]   \n",
       "\n",
       "                                         drop_loc  \\\n",
       "trip_id                                             \n",
       "7        [20.644953277707753, 16.739639232664956]   \n",
       "10       [15.952679135966424, 38.502402044018744]   \n",
       "11        [38.240837748317205, 35.99919570266608]   \n",
       "33         [4.394584156559439, 9.201755368254531]   \n",
       "41       [12.512562250473064, 28.217580717720423]   \n",
       "...                                           ...   \n",
       "4650      [19.93147386703501, 14.063607852038452]   \n",
       "4666       [3.0983091938973537, 6.25685515500164]   \n",
       "4683     [27.588101041296206, 14.702482432312948]   \n",
       "4693       [6.196268546019961, 32.34207295270242]   \n",
       "4692      [16.118214174602493, 18.58896649600287]   \n",
       "\n",
       "                                       driver_loc  pickup_time  travel_time  \\\n",
       "trip_id                                                                       \n",
       "7                                        [36, 12]        266.0        172.0   \n",
       "10                                       [36, 12]        169.0        230.0   \n",
       "11                                       [36, 12]        367.0        277.0   \n",
       "33        [38.240837748317205, 35.99919570266608]        408.0         79.0   \n",
       "41        [38.240837748317205, 35.99919570266608]        322.0        186.0   \n",
       "...                                           ...          ...          ...   \n",
       "4650       [39.14615391019719, 7.482814219499648]        307.0        128.0   \n",
       "4666      [19.93147386703501, 14.063607852038452]        129.0        140.0   \n",
       "4683       [3.0983091938973537, 6.25685515500164]        164.0        110.0   \n",
       "4693     [27.588101041296206, 14.702482432312948]        208.0        194.0   \n",
       "4692     [27.588101041296206, 14.702482432312948]        300.0        181.0   \n",
       "\n",
       "         driver_action  \n",
       "trip_id                 \n",
       "7                    0  \n",
       "10                   0  \n",
       "11                   1  \n",
       "33                   0  \n",
       "41                   0  \n",
       "...                ...  \n",
       "4650                 1  \n",
       "4666                 1  \n",
       "4683                 1  \n",
       "4693                 0  \n",
       "4692                 1  \n",
       "\n",
       "[423 rows x 8 columns]"
      ]
     },
     "execution_count": 6,
     "metadata": {},
     "output_type": "execute_result"
    }
   ],
   "source": [
    "driver_data"
   ]
  },
  {
   "cell_type": "code",
   "execution_count": 7,
   "metadata": {},
   "outputs": [],
   "source": [
    "trip_times = []\n",
    "for i in driver_data[['assigned_time','driver_action','pickup_time','travel_time']].values:\n",
    "    if i[1] == 1:\n",
    "        assign_time = i[0]\n",
    "        pickup_time = assign_time + i[2]\n",
    "        drop_time = pickup_time + i[3]\n",
    "        points = [assign_time,pickup_time,drop_time]\n",
    "        trip_times.append(points)"
   ]
  },
  {
   "cell_type": "code",
   "execution_count": 17,
   "metadata": {},
   "outputs": [],
   "source": [
    "states = {'idle':1,'pick_up':1,'in_trip':1}\n",
    "color_mapping = {\"idle\" : \"C0\", \"pick_up\" : \"C1\", \"in_trip\" : \"C2\"}\n",
    "state_mapping = {0:\"pick_up\",1:'in_trip'}\n",
    "\n",
    "verts = []\n",
    "colors = []\n",
    "end_time = 0\n",
    "for t in trip_times[:50]:\n",
    "    v = [\n",
    "        (end_time, states['idle']-0.4),\n",
    "        (end_time, states['idle']+0.4),\n",
    "        (t[0], states['idle']+0.4),\n",
    "        (t[0], states['idle']-0.4),\n",
    "        (end_time, states['idle']-0.4),\n",
    "    ]\n",
    "    \n",
    "    verts.append(v)\n",
    "    colors.append(color_mapping['idle'])\n",
    "\n",
    "    for k in range(2):\n",
    "        state = states[state_mapping[k]]\n",
    "        v = [\n",
    "            (t[k], state - 0.4),\n",
    "            (t[k], state + 0.4),\n",
    "            (t[k+1], state + 0.4),\n",
    "            (t[k+1], state - 0.4),\n",
    "            (t[k], state - 0.4),\n",
    "        ]\n",
    "\n",
    "        verts.append(v)\n",
    "        colors.append(color_mapping[state_mapping[k]])\n",
    "    \n",
    "    \n",
    "    end_time = t[2]"
   ]
  },
  {
   "cell_type": "code",
   "execution_count": 18,
   "metadata": {},
   "outputs": [
    {
     "data": {
      "image/png": "[encoded data removed]",
      "text/plain": [
       "<Figure size 2160x144 with 1 Axes>"
      ]
     },
     "metadata": {
      "needs_background": "light"
     },
     "output_type": "display_data"
    }
   ],
   "source": [
    "bars = PolyCollection(verts, facecolors=colors)\n",
    "\n",
    "fig, ax = plt.subplots(figsize=(30,2))\n",
    "ax.add_collection(bars)\n",
    "ax.get_yaxis().set_visible(False)\n",
    "ax.autoscale()\n",
    "idle = mpatches.Patch(color='C0', label='Idle time')\n",
    "pick_up = mpatches.Patch(color='C1', label='Pick up time')\n",
    "in_trip = mpatches.Patch(color='C2', label='Trip time')\n",
    "\n",
    "plt.legend(handles=[idle,pick_up,in_trip],bbox_to_anchor=(1.05, 1), loc='upper left', borderaxespad=0.)\n",
    "\n",
    "# plt.show()\n",
    "plt.savefig(\"Driver States\")"
   ]
  },
  {
   "cell_type": "code",
   "execution_count": null,
   "metadata": {},
   "outputs": [],
   "source": [
    "driver_data[driver_data['driver_action'] == 1][:5]"
   ]
  },
  {
   "cell_type": "code",
   "execution_count": null,
   "metadata": {},
   "outputs": [],
   "source": [
    "verts"
   ]
  },
  {
   "cell_type": "code",
   "execution_count": null,
   "metadata": {
    "scrolled": true
   },
   "outputs": [],
   "source": [
    "trip_times"
   ]
  },
  {
   "cell_type": "code",
   "execution_count": 15,
   "metadata": {},
   "outputs": [
    {
     "data": {
      "text/plain": [
       "0.8808411214953271"
      ]
     },
     "execution_count": 15,
     "metadata": {},
     "output_type": "execute_result"
    }
   ],
   "source": [
    "a.completed_percentage()"
   ]
  },
  {
   "cell_type": "code",
   "execution_count": 9,
   "metadata": {},
   "outputs": [],
   "source": [
    "from RideSimulator.HexGrid import HexGrid\n",
    "import time\n",
    "import numpy as np\n",
    "import random"
   ]
  },
  {
   "cell_type": "code",
   "execution_count": 10,
   "metadata": {},
   "outputs": [
    {
     "ename": "TypeError",
     "evalue": "'<' not supported between instances of 'HexTile' and 'HexTile'",
     "output_type": "error",
     "traceback": [
      "\u001B[1;31m---------------------------------------------------------------------------\u001B[0m",
      "\u001B[1;31mTypeError\u001B[0m                                 Traceback (most recent call last)",
      "\u001B[1;32m<ipython-input-10-03153cae29cf>\u001B[0m in \u001B[0;36m<module>\u001B[1;34m\u001B[0m\n\u001B[0;32m     12\u001B[0m \u001B[0mt\u001B[0m \u001B[1;33m=\u001B[0m \u001B[0mtime\u001B[0m\u001B[1;33m.\u001B[0m\u001B[0mtime\u001B[0m\u001B[1;33m(\u001B[0m\u001B[1;33m)\u001B[0m\u001B[1;33m\u001B[0m\u001B[1;33m\u001B[0m\u001B[0m\n\u001B[0;32m     13\u001B[0m \u001B[1;32mfor\u001B[0m \u001B[0mk\u001B[0m \u001B[1;32min\u001B[0m \u001B[0mrange\u001B[0m\u001B[1;33m(\u001B[0m\u001B[1;36m1000\u001B[0m\u001B[1;33m)\u001B[0m\u001B[1;33m:\u001B[0m\u001B[1;33m\u001B[0m\u001B[1;33m\u001B[0m\u001B[0m\n\u001B[1;32m---> 14\u001B[1;33m     \u001B[0mh\u001B[0m\u001B[1;33m.\u001B[0m\u001B[0mget_closest_hex\u001B[0m\u001B[1;33m(\u001B[0m\u001B[0mnp\u001B[0m\u001B[1;33m.\u001B[0m\u001B[0marray\u001B[0m\u001B[1;33m(\u001B[0m\u001B[1;33m[\u001B[0m\u001B[0mrandom\u001B[0m\u001B[1;33m.\u001B[0m\u001B[0mrandint\u001B[0m\u001B[1;33m(\u001B[0m\u001B[1;36m0\u001B[0m\u001B[1;33m,\u001B[0m \u001B[0mw\u001B[0m\u001B[1;33m)\u001B[0m\u001B[1;33m,\u001B[0m \u001B[0mrandom\u001B[0m\u001B[1;33m.\u001B[0m\u001B[0mrandint\u001B[0m\u001B[1;33m(\u001B[0m\u001B[1;36m0\u001B[0m\u001B[1;33m,\u001B[0m \u001B[0mhi\u001B[0m\u001B[1;33m)\u001B[0m\u001B[1;33m]\u001B[0m\u001B[1;33m)\u001B[0m\u001B[1;33m)\u001B[0m\u001B[1;33m\u001B[0m\u001B[1;33m\u001B[0m\u001B[0m\n\u001B[0m\u001B[0;32m     15\u001B[0m \u001B[0mprint\u001B[0m\u001B[1;33m(\u001B[0m\u001B[1;33m(\u001B[0m\u001B[0mtime\u001B[0m\u001B[1;33m.\u001B[0m\u001B[0mtime\u001B[0m\u001B[1;33m(\u001B[0m\u001B[1;33m)\u001B[0m \u001B[1;33m-\u001B[0m \u001B[0mt\u001B[0m\u001B[1;33m)\u001B[0m\u001B[1;33m)\u001B[0m\u001B[1;33m\u001B[0m\u001B[1;33m\u001B[0m\u001B[0m\n",
      "\u001B[1;32mD:\\Ravin\\FYP\\simulation\\RideSimulator\\HexGrid.py\u001B[0m in \u001B[0;36mget_closest_hex\u001B[1;34m(self, location)\u001B[0m\n\u001B[0;32m     36\u001B[0m             \u001B[0mdistances\u001B[0m\u001B[1;33m.\u001B[0m\u001B[0mappend\u001B[0m\u001B[1;33m(\u001B[0m\u001B[0mnp\u001B[0m\u001B[1;33m.\u001B[0m\u001B[0mlinalg\u001B[0m\u001B[1;33m.\u001B[0m\u001B[0mnorm\u001B[0m\u001B[1;33m(\u001B[0m\u001B[0mlocation\u001B[0m \u001B[1;33m-\u001B[0m \u001B[0mhex_tile\u001B[0m\u001B[1;33m.\u001B[0m\u001B[0mcenter\u001B[0m\u001B[1;33m)\u001B[0m\u001B[1;33m)\u001B[0m\u001B[1;33m\u001B[0m\u001B[1;33m\u001B[0m\u001B[0m\n\u001B[0;32m     37\u001B[0m \u001B[1;33m\u001B[0m\u001B[0m\n\u001B[1;32m---> 38\u001B[1;33m         \u001B[0m_\u001B[0m\u001B[1;33m,\u001B[0m \u001B[0mhexes\u001B[0m \u001B[1;33m=\u001B[0m \u001B[0mzip\u001B[0m\u001B[1;33m(\u001B[0m\u001B[1;33m*\u001B[0m\u001B[0msorted\u001B[0m\u001B[1;33m(\u001B[0m\u001B[0mzip\u001B[0m\u001B[1;33m(\u001B[0m\u001B[0mdistances\u001B[0m\u001B[1;33m,\u001B[0m \u001B[0mhexes\u001B[0m\u001B[1;33m)\u001B[0m\u001B[1;33m)\u001B[0m\u001B[1;33m)\u001B[0m\u001B[1;33m\u001B[0m\u001B[1;33m\u001B[0m\u001B[0m\n\u001B[0m\u001B[0;32m     39\u001B[0m \u001B[1;33m\u001B[0m\u001B[0m\n\u001B[0;32m     40\u001B[0m         \u001B[1;32mreturn\u001B[0m \u001B[0mhexes\u001B[0m\u001B[1;33m[\u001B[0m\u001B[1;36m0\u001B[0m\u001B[1;33m]\u001B[0m\u001B[1;33m\u001B[0m\u001B[1;33m\u001B[0m\u001B[0m\n",
      "\u001B[1;31mTypeError\u001B[0m: '<' not supported between instances of 'HexTile' and 'HexTile'"
     ]
    }
   ],
   "source": [
    "w = 150\n",
    "hi = 150\n",
    "h = HexGrid(1, w, hi, 5)\n",
    "# h.plot_grid(colour_tiles=[])\n",
    "\n",
    "\n",
    "def check(loc):\n",
    "    c = h.get_closest_hex(loc)\n",
    "    h.plot_grid(colour_tiles=h.get_closet_ring(c))\n",
    "\n",
    "\n",
    "t = time.time()\n",
    "for k in range(1000):\n",
    "    h.get_closest_hex(np.array([random.randint(0, w), random.randint(0, hi)]))\n",
    "print((time.time() - t))"
   ]
  },
  {
   "cell_type": "code",
   "execution_count": 4,
   "metadata": {},
   "outputs": [
    {
     "data": {
      "application/vnd.jupyter.widget-view+json": {
       "model_id": "13bd9d83109842ed848f74a740391c44",
       "version_major": 2,
       "version_minor": 0
      },
      "text/plain": [
       "HBox(children=(FloatProgress(value=0.0, max=4.0), HTML(value='')))"
      ]
     },
     "metadata": {},
     "output_type": "display_data"
    },
    {
     "data": {
      "application/vnd.jupyter.widget-view+json": {
       "model_id": "",
       "version_major": 2,
       "version_minor": 0
      },
      "text/plain": [
       "HBox(children=(FloatProgress(value=0.0, max=7.0), HTML(value='')))"
      ]
     },
     "metadata": {},
     "output_type": "display_data"
    },
    {
     "data": {
      "application/vnd.jupyter.widget-view+json": {
       "model_id": "",
       "version_major": 2,
       "version_minor": 0
      },
      "text/plain": [
       "HBox(children=(FloatProgress(value=0.0, max=7.0), HTML(value='')))"
      ]
     },
     "metadata": {},
     "output_type": "display_data"
    },
    {
     "data": {
      "application/vnd.jupyter.widget-view+json": {
       "model_id": "",
       "version_major": 2,
       "version_minor": 0
      },
      "text/plain": [
       "HBox(children=(FloatProgress(value=0.0, max=7.0), HTML(value='')))"
      ]
     },
     "metadata": {},
     "output_type": "display_data"
    },
    {
     "name": "stdout",
     "output_type": "stream",
     "text": [
      "\n"
     ]
    }
   ],
   "source": [
    "from tqdm.auto import trange,tqdm\n",
    "from time import sleep\n",
    "\n",
    "# for i in trange(4, desc='1st loop'):\n",
    "#     for j in trange(5, desc='2nd loop',leave=False):\n",
    "#         for k in trange(50, desc='3rd loop', leave=False):\n",
    "#             sleep(0.01)\n",
    "            \n",
    "with tqdm(total=4) as week_bar:\n",
    "    for k in range(3):\n",
    "        with tqdm(total=7,leave=False) as day_bar:\n",
    "            for i in range(8):\n",
    "                sleep(0.2)\n",
    "                day_bar.update(1)\n",
    "        week_bar.update(1)\n",
    "    week_bar.update(3-k)"
   ]
  },
  {
   "cell_type": "code",
   "execution_count": 11,
   "metadata": {},
   "outputs": [
    {
     "data": {
      "application/vnd.jupyter.widget-view+json": {
       "model_id": "0f3b6b5cb87f4ce795eb254626148383",
       "version_major": 2,
       "version_minor": 0
      },
      "text/plain": [
       "HBox(children=(FloatProgress(value=0.0, max=400.0), HTML(value='')))"
      ]
     },
     "metadata": {},
     "output_type": "display_data"
    },
    {
     "name": "stdout",
     "output_type": "stream",
     "text": [
      "\n"
     ]
    }
   ],
   "source": [
    "with tqdm(total=400) as week_bar:\n",
    "    for k in range(400):\n",
    "#         sleep(0.0002)\n",
    "        week_bar.update(1)\n",
    "        continue"
   ]
  },
  {
   "cell_type": "code",
   "execution_count": 6,
   "metadata": {},
   "outputs": [
    {
     "data": {
      "application/vnd.jupyter.widget-view+json": {
       "model_id": "15f53ede157d4d969f424314f5a7960a",
       "version_major": 2,
       "version_minor": 0
      },
      "text/plain": [
       "HBox(children=(FloatProgress(value=0.0, max=10.0), HTML(value='')))"
      ]
     },
     "metadata": {},
     "output_type": "display_data"
    },
    {
     "name": "stdout",
     "output_type": "stream",
     "text": [
      "\n"
     ]
    },
    {
     "data": {
      "application/vnd.jupyter.widget-view+json": {
       "model_id": "7e7c24b6f27e446b830657c692c61fdf",
       "version_major": 2,
       "version_minor": 0
      },
      "text/plain": [
       "HBox(children=(FloatProgress(value=0.0, max=10.0), HTML(value='')))"
      ]
     },
     "metadata": {},
     "output_type": "display_data"
    },
    {
     "name": "stdout",
     "output_type": "stream",
     "text": [
      "\n"
     ]
    }
   ],
   "source": [
    "from tqdm.auto import tqdm, trange\n",
    "from random import random, randint\n",
    "from time import sleep\n",
    "\n",
    "with trange(10) as t:\n",
    "    for i in t:\n",
    "        # Description will be displayed on the left\n",
    "        t.set_description('GEN %i' % i)\n",
    "        # Postfix will be displayed on the right,\n",
    "        # formatted automatically based on argument's datatype\n",
    "        t.set_postfix(loss=random(), gen=randint(1,999), str='h',\n",
    "                      lst=[1, 2])\n",
    "        sleep(0.1)\n",
    "\n",
    "with tqdm(total=10, bar_format=\"{postfix[0]} {postfix[1][value]:>8.2g}\",\n",
    "          postfix=[\"Batch\", dict(value=0)]) as t:\n",
    "    for i in range(10):\n",
    "        sleep(0.1)\n",
    "        t.postfix[1][\"value\"] = i / 2\n",
    "        t.update()"
   ]
  },
  {
   "cell_type": "code",
   "execution_count": null,
   "metadata": {},
   "outputs": [],
   "source": []
  }
 ],
 "metadata": {
  "kernelspec": {
   "display_name": "Python 3",
   "language": "python",
   "name": "python3"
  },
  "language_info": {
   "codemirror_mode": {
    "name": "ipython",
    "version": 3
   },
   "file_extension": ".py",
   "mimetype": "text/x-python",
   "name": "python",
   "nbconvert_exporter": "python",
   "pygments_lexer": "ipython3",
   "version": "3.6.8"
  }
 },
 "nbformat": 4,
 "nbformat_minor": 2
}